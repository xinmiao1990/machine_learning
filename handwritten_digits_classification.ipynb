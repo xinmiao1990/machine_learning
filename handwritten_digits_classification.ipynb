{
 "cells": [
  {
   "cell_type": "markdown",
   "metadata": {},
   "source": [
    "# CSCI567 Machine Learning Course Project\n",
    "by Xin Miao, Spring 2018\n",
    "## Project aim\n",
    "Classification of handwritten digits using major machine learning algorithms. \n",
    "## Outline of this presentation\n",
    "Section 1. Import python packages<br>\n",
    "Section 2. Explore the data<br>\n",
    "Section 3. Evaluation metric<br>\n",
    "Section 4. **Logistic regression**<br>\n",
    "Section 5. **Perceptron**<br>\n",
    "Section 6. **Convolutional neural network**<br>\n",
    "Section 7. **Support vector machine**<br>\n",
    "Section 8. **Boosting**<br>\n",
    "Section 9. **K-means**<br>\n",
    "## About the data\n",
    "- The dataset is stored in a JSON-format file mnist_subset.json. \n",
    "- You can access its training, validation, and test splits using the keys ‘train’, ‘valid’, and ‘test’, respectively. For example, suppose we load to the variable $x$. Then, $x$ refers to the training set of mnist subset. This set is a list with two elements: $x['train'][0]$ containing the features of size $N$ (samples)$\\rightarrow$ $D$ (dimension of features), and  $x['train'][1]$ containing the corresponding labels of size N.\n",
    "- Each Sample is a **28-by-28** grey-scaled image. Therefore, the feature vector length is **784**, and each element in the vector represents one pixel of the image.<br>\n"
   ]
  },
  {
   "cell_type": "markdown",
   "metadata": {},
   "source": [
    "# S1. Python Packages"
   ]
  },
  {
   "cell_type": "code",
   "execution_count": 1,
   "metadata": {},
   "outputs": [],
   "source": [
    "import numpy as np\n",
    "import scipy as sp\n",
    "import json\n",
    "\n",
    "from matplotlib import pyplot as plt"
   ]
  },
  {
   "cell_type": "markdown",
   "metadata": {},
   "source": [
    "# S2. Data Exploration"
   ]
  },
  {
   "cell_type": "code",
   "execution_count": 2,
   "metadata": {},
   "outputs": [],
   "source": [
    "from data_loader import data_loader_mnist\n",
    "X_train, y_train, X_valid, y_valid, X_test, y_test = data_loader_mnist()\n",
    "n_classes = np.unique(y_train).shape[0]"
   ]
  },
  {
   "cell_type": "code",
   "execution_count": 3,
   "metadata": {},
   "outputs": [
    {
     "name": "stdout",
     "output_type": "stream",
     "text": [
      "Dimension of feature space: 784\n",
      "Number of training samples: 5000\n",
      "Number of validation samples: 1000\n",
      "Number of test samples: 1000\n"
     ]
    }
   ],
   "source": [
    "print('Dimension of feature space: %d' % (X_train.shape[1]))\n",
    "print('Number of training samples: %d' % (X_train.shape[0]))\n",
    "print('Number of validation samples: %d' % (X_valid.shape[0]))\n",
    "print('Number of test samples: %d' % (X_test.shape[0]))"
   ]
  },
  {
   "cell_type": "code",
   "execution_count": 4,
   "metadata": {},
   "outputs": [
    {
     "name": "stdout",
     "output_type": "stream",
     "text": [
      "Labels:\n",
      "[0 1 2 3 4 5 6 7 8 9]\n",
      "Value range of feature vectors: \n",
      "[0.000000, 0.996094]\n"
     ]
    }
   ],
   "source": [
    "print('Labels:')\n",
    "print(np.unique(y_train))\n",
    "print('Value range of feature vectors: \\n[%f, %f]' % (np.min(X_train), np.max(X_train)))"
   ]
  },
  {
   "cell_type": "code",
   "execution_count": 5,
   "metadata": {},
   "outputs": [
    {
     "name": "stdout",
     "output_type": "stream",
     "text": [
      "This handwritten digit is recognized as  7\n"
     ]
    },
    {
     "data": {
      "image/png": "[encoded data removed]",
      "text/plain": [
       "<matplotlib.figure.Figure at 0x11029db50>"
      ]
     },
     "metadata": {},
     "output_type": "display_data"
    },
    {
     "name": "stdout",
     "output_type": "stream",
     "text": [
      "This handwritten digit is recognized as  6\n"
     ]
    },
    {
     "data": {
      "image/png": "[encoded data removed]",
      "text/plain": [
       "<matplotlib.figure.Figure at 0x1123135d0>"
      ]
     },
     "metadata": {},
     "output_type": "display_data"
    },
    {
     "name": "stdout",
     "output_type": "stream",
     "text": [
      "This handwritten digit is recognized as  4\n"
     ]
    },
    {
     "data": {
      "image/png": "[encoded data removed]",
      "text/plain": [
       "<matplotlib.figure.Figure at 0x11b2e5850>"
      ]
     },
     "metadata": {},
     "output_type": "display_data"
    }
   ],
   "source": [
    "# Display some images\n",
    "from PIL import Image\n",
    "\n",
    "for i in range(0,3):\n",
    "    print('This handwritten digit is recognized as  '+str(y_train[i]))\n",
    "    plt.imshow(X_train[i].reshape([28, 28]), cmap='gray')\n",
    "    plt.show()"
   ]
  },
  {
   "cell_type": "markdown",
   "metadata": {},
   "source": [
    "# S3. Evaluation Metric\n",
    "The accuracy of prediction is evaluated as (number of correct prediction)/(total number of test cases)x100%"
   ]
  },
  {
   "cell_type": "code",
   "execution_count": 6,
   "metadata": {},
   "outputs": [],
   "source": [
    "from sklearn.metrics import accuracy_score"
   ]
  },
  {
   "cell_type": "markdown",
   "metadata": {},
   "source": [
    "# S4. Logistic regression\n",
    "**Algorithm**: <br>\n",
    "Multinomial logistic regression. K binary classifiers are trained, and each point is assigned to the class that maximizes the conditional probability: $$p(y==k|x)=\\frac{e^{w_k^T x}}{\\Sigma_{k'}{e^{w_{k'}^T x}}}$$ $$k^* =  \\underset{k}{{arg\\,max}}\\,p(y==k|x)$$<br>\n",
    "**Hyper-parameters**:<br>\n",
    "    - Number of classes\n",
    "    - Step size of gradient descent\n",
    "    - Maximum iterations\n",
    "    - Error tolerance\n",
    "See implementation details in logistic.py <br>\n",
    "Details on the derivation of gradient can be found here:<br>\n",
    "https://www.quora.com/What-is-the-gradient-of-the-log-likelihood-function-in-multinomial-logistic-regression"
   ]
  },
  {
   "cell_type": "code",
   "execution_count": 7,
   "metadata": {},
   "outputs": [
    {
     "name": "stdout",
     "output_type": "stream",
     "text": [
      "Multinomial:\n",
      "Iter: 0,  Error: 0.612800\n",
      "\n",
      "Iter: 1,  Error: 0.785800\n",
      "\n",
      "Iter: 2,  Error: 0.772800\n",
      "\n",
      "Iter: 3,  Error: 0.799600\n",
      "\n",
      "Iter: 4,  Error: 0.798000\n",
      "\n",
      "Iter: 5,  Error: 0.810200\n",
      "\n",
      "Iter: 6,  Error: 0.813400\n",
      "\n",
      "Iter: 7,  Error: 0.820800\n",
      "\n",
      "Iter: 8,  Error: 0.828000\n",
      "\n",
      "Iter: 9,  Error: 0.832400\n",
      "\n",
      "train acc: 0.832400, test acc: 0.834000\n"
     ]
    }
   ],
   "source": [
    "from logistic import LogisticCLF\n",
    "\n",
    "logistic = LogisticCLF(n_classes=n_classes, step_size=0.5, max_iter=10, e=0.0001)\n",
    "\n",
    "print('Multinomial:')\n",
    "w, b = logistic.train(X_train, y_train)\n",
    "train_preds = logistic.predict(X_train, w=w, b=b)\n",
    "preds = logistic.predict(X_test, w=w, b=b)\n",
    "\n",
    "print('train acc: %f, test acc: %f' % \n",
    "    (accuracy_score(y_train, train_preds),\n",
    "     accuracy_score(y_test, preds)))"
   ]
  },
  {
   "cell_type": "markdown",
   "metadata": {},
   "source": [
    "# S5. Convolutional Neural Network\n",
    "**Algorithm**:<br>\n",
    "    A two-convolutional-layer CNN. Structure looks like this:\n",
    "    ![alt text](cnn2.png \"Two-layer CNN\")\n",
    "**Hyper-parameters**:<br>\n",
    "    - Learning rate\n",
    "    - Alpha\n",
    "    - Stochastic gradient descent related: Number of epoch, size of minibatch\n",
    "Implementation details in dnn_cnn.py, dnn_misc.py"
   ]
  },
  {
   "cell_type": "code",
   "execution_count": 11,
   "metadata": {},
   "outputs": [
    {
     "name": "stdout",
     "output_type": "stream",
     "text": [
      "(5000, 1, 28, 28)\n",
      "At epoch 1\n",
      "Training loss at epoch 1 is 0.39174589169764024\n",
      "Training accuracy at epoch 1 is 0.8962\n",
      "Validation accuracy at epoch 1 is 0.913\n",
      "At epoch 2\n",
      "Training loss at epoch 2 is 0.26461930570626463\n",
      "Training accuracy at epoch 2 is 0.9246\n",
      "Validation accuracy at epoch 2 is 0.937\n",
      "At epoch 3\n",
      "Training loss at epoch 3 is 0.20831313341923516\n",
      "Training accuracy at epoch 3 is 0.9388\n",
      "Validation accuracy at epoch 3 is 0.951\n",
      "train acc: 0.938800, test acc: 0.950000\n"
     ]
    }
   ],
   "source": [
    "from dnn_cnn import CNN\n",
    "X_train, y_train, X_valid, y_valid, X_test, y_test = data_loader_mnist()\n",
    "cnn = CNN(random_seed=2, learning_rate=0.01, alpha=0.0, num_epoch=3, minibatch_size=5)\n",
    "\n",
    "X_train = np.array(X_train).reshape(-1, 1, 28, 28)\n",
    "X_valid = np.array(X_valid).reshape(-1, 1, 28, 28)\n",
    "X_test = np.array(X_test).reshape(-1, 1, 28, 28)\n",
    "\n",
    "print(X_train.shape)\n",
    "\n",
    "model = cnn.train(X_train, y_train, X_valid, y_valid)\n",
    "train_preds = cnn.predict(X_train, model)\n",
    "preds = cnn.predict(X_test, model)\n",
    "\n",
    "print('train acc: %f, test acc: %f' % \n",
    "    (accuracy_score(y_train, train_preds),\n",
    "     accuracy_score(y_test, preds)))"
   ]
  },
  {
   "cell_type": "markdown",
   "metadata": {},
   "source": [
    "# S6. Support Vector Machine\n",
    "**Algorithm**:<br>\n",
    "![alt text](image_files/pegasos.png \"Pegasos\")\n",
    "**Hyperparameters**:<br>\n",
    "    - K: size of minibatch\n",
    "    - Lambda: regularization parameter. This controls the tolerance of error\n",
    "    - Maximum iterations\n",
    "Implementation details in pegasos.py"
   ]
  },
  {
   "cell_type": "code",
   "execution_count": 12,
   "metadata": {},
   "outputs": [
    {
     "name": "stdout",
     "output_type": "stream",
     "text": [
      "[6 0 6 6 5 1 5 0 2]\n",
      "[6 4 6 6 5 1 5 7 2]\n",
      "train acc: 0.857600, test acc: 0.833000\n"
     ]
    }
   ],
   "source": [
    "from pegasos import SVM\n",
    "X_train, y_train, X_valid, y_valid, X_test, y_test = data_loader_mnist()\n",
    "\n",
    "svm = SVM(num_classes=n_classes, k=100, max_iterations=500, lamb=0.001, t=0.)\n",
    "\n",
    "X_train = np.hstack((np.ones((len(X_train), 1)), np.array(X_train)))\n",
    "X_valid = np.hstack((np.ones((len(X_valid), 1)), np.array(X_valid)))\n",
    "X_test = np.hstack((np.ones((len(X_test), 1)), np.array(X_test)))\n",
    "\n",
    "w_svm = svm.OVR_train(X_train, y_train)\n",
    "train_preds = svm.OVR_predict(X_train, w_svm)\n",
    "preds = svm.OVR_predict(X_test, w_svm)\n",
    "\n",
    "print('train acc: %f, test acc: %f' % \n",
    "    (accuracy_score(y_train, train_preds),\n",
    "     accuracy_score(y_test, preds)))"
   ]
  },
  {
   "cell_type": "markdown",
   "metadata": {},
   "source": [
    "# S7. Boosting\n",
    "**Algorithm**:<br>\n",
    "![alt text](image_files/adaboost.png \"adaboost\")\n",
    "**Hyper-parameters**:<br>\n",
    "    - Pool of simple classifiers\n",
    "    - Maximum iterations\n",
    "Implementation details in boosting.py"
   ]
  },
  {
   "cell_type": "code",
   "execution_count": 7,
   "metadata": {},
   "outputs": [
    {
     "ename": "SyntaxError",
     "evalue": "invalid syntax (decision_stump.py, line 7)",
     "output_type": "error",
     "traceback": [
      "\u001b[0;36m  File \u001b[0;32m\"decision_stump.py\"\u001b[0;36m, line \u001b[0;32m7\u001b[0m\n\u001b[0;31m    def __init__(self, s: int, b: float, d: int):\u001b[0m\n\u001b[0m                        ^\u001b[0m\n\u001b[0;31mSyntaxError\u001b[0m\u001b[0;31m:\u001b[0m invalid syntax\n"
     ]
    }
   ],
   "source": [
    "import decision_stump\n",
    "import boosting\n",
    "\n",
    "X_train, y_train, X_valid, y_valid, X_test, y_test = data_loader_mnist()\n",
    "\n",
    "# set a pool of \"stupid\" classifiers\n",
    "h_set = set()\n",
    "s_set = {1, -1}\n",
    "b_set = set(np.linspace(0, 10, 51))\n",
    "d_set = {0, 1, 2, 3, 4, 5, 6, 7, 8, 9}\n",
    "for s in s_set:\n",
    "    for b in b_set:\n",
    "        for d in d_set:\n",
    "            print(type(s))\n",
    "            # h_set.add(decision_stump.DecisionStump(s,b,d))\n",
    "\n",
    "# training\n",
    "ada = boosting.AdaBoost(h_set, T=30)\n",
    "ada.train(X_train, y_train)\n",
    "train_preds = ada.predict(X_train1, w_svm)\n",
    "preds = ada.predict(X_test1, w_svm)\n",
    "\n",
    "print('train acc: %f, test acc: %f' % \n",
    "    (accuracy_score(y_train, train_preds),\n",
    "     accuracy_score(y_test, preds)))"
   ]
  },
  {
   "cell_type": "markdown",
   "metadata": {},
   "source": [
    "# S8. K-means\n",
    "Algorithm:<br>\n",
    "![alt text](image_files/kmeans.png \"kmeans\")\n",
    "Implementation details in kmeans.py"
   ]
  },
  {
   "cell_type": "code",
   "execution_count": 15,
   "metadata": {},
   "outputs": [
    {
     "name": "stdout",
     "output_type": "stream",
     "text": [
      "[6 4 6 6 5 1 5 7 2]\n",
      "[6 4 6 6 5 1 5 7 2]\n",
      "train acc: 0.659800, test acc: 0.671000\n"
     ]
    }
   ],
   "source": [
    "from kmeans import KMeans, KMeansClassifier\n",
    "\n",
    "X_train, y_train, X_valid, y_valid, X_test, y_test = data_loader_mnist()\n",
    "\n",
    "kmeans = KMeansClassifier(n_cluster=40, max_iter=300, e=1e-6)\n",
    "\n",
    "kmeans.fit(X_train, y_train)\n",
    "train_preds = kmeans.predict(X_train)\n",
    "preds = kmeans.predict(X_test)\n",
    "\n",
    "print(train_preds[1:10])\n",
    "print(y_train[1:10])\n",
    "print('train acc: %f, test acc: %f' % \n",
    "    (accuracy_score(y_train, train_preds),\n",
    "     accuracy_score(y_test, preds)))"
   ]
  },
  {
   "cell_type": "code",
   "execution_count": null,
   "metadata": {},
   "outputs": [],
   "source": []
  }
 ],
 "metadata": {
  "kernelspec": {
   "display_name": "Python 2",
   "language": "python",
   "name": "python2"
  },
  "language_info": {
   "codemirror_mode": {
    "name": "ipython",
    "version": 2
   },
   "file_extension": ".py",
   "mimetype": "text/x-python",
   "name": "python",
   "nbconvert_exporter": "python",
   "pygments_lexer": "ipython2",
   "version": "2.7.14"
  }
 },
 "nbformat": 4,
 "nbformat_minor": 2
}
